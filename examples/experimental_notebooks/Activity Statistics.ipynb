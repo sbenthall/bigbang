{
 "cells": [
  {
   "cell_type": "markdown",
   "metadata": {},
   "source": [
    "Nick can't have *all* the fun. Time to do some statistics on mailing list activity.\n",
    "\n",
    "First, let's do some imports..."
   ]
  },
  {
   "cell_type": "code",
   "execution_count": 1,
   "metadata": {},
   "outputs": [],
   "source": [
    "%matplotlib inline"
   ]
  },
  {
   "cell_type": "code",
   "execution_count": 56,
   "metadata": {},
   "outputs": [],
   "source": [
    "import bigbang.mailman as mailman\n",
    "import bigbang.graph as graph\n",
    "import bigbang.process as process\n",
    "from bigbang.parse import get_date\n",
    "#from bigbang.functions import *\n",
    "from bigbang.archive import Archive\n",
    "\n",
    "import matplotlib.pyplot as plt\n",
    "import numpy as np\n",
    "import pandas as pd"
   ]
  },
  {
   "cell_type": "code",
   "execution_count": 43,
   "metadata": {},
   "outputs": [],
   "source": [
    "plt.rcParams['axes.facecolor'] = 'white'\n",
    "import seaborn as sns\n",
    "sns.set()\n",
    "sns.set_style(\"white\")"
   ]
  },
  {
   "cell_type": "code",
   "execution_count": 6,
   "metadata": {},
   "outputs": [
    {
     "name": "stdout",
     "output_type": "stream",
     "text": [
      "169\n",
      "Opening 169 archive files\n",
      "Date parsing error on: \n",
      "None\n",
      "Date parsing error on: \n",
      "None\n",
      "Date parsing error on: \n",
      "None\n",
      "Date parsing error on: \n",
      "None\n",
      "Date parsing error on: \n",
      "None\n",
      "Date parsing error on: \n",
      "None\n",
      "Date parsing error on: \n",
      "[[ Jue, 25 May 2006 04:41:54 p.m. ]]\n",
      "Date parsing error on: \n",
      "[[ Jue, 25 May 2006 08:26:21 p.m. ]]\n",
      "Date parsing error on: \n",
      "[[ Vie, 26 May 2006 04:26:53 p.m. ]]\n",
      "Date parsing error on: \n",
      "[[ Lun, 29 May 2006 04:48:44 p.m. ]]\n",
      "Date parsing error on: \n",
      "[[ Mi, 31 May 2006 02:01:29 p.m. ]]\n",
      "Date parsing error on: \n",
      "[[ Mi, 31 May 2006 01:17:35 p.m. ]]\n",
      "Date parsing error on: \n",
      ", 19     2007 09:29:35 +0200\n",
      "Date parsing error on: \n",
      ", 19     2007 09:28:12 +0200\n",
      "Date parsing error on: \n",
      "None\n",
      "Date parsing error on: \n",
      "None\n",
      "Date parsing error on: \n",
      "None\n",
      "Date parsing error on: \n",
      "None\n",
      "Date parsing error on: \n",
      "None\n",
      "Date parsing error on: \n",
      "Tue, 0 Jan 2008 17:59:50 +0100\n",
      "Date parsing error on: \n",
      "None\n",
      "Date parsing error on: \n",
      "None\n",
      "Date parsing error on: \n",
      "None\n",
      "Date parsing error on: \n",
      "None\n",
      "Date parsing error on: \n",
      "None\n",
      "Date parsing error on: \n",
      "None\n",
      "Date parsing error on: \n",
      "None\n",
      "Date parsing error on: \n",
      "None\n",
      "Date parsing error on: \n",
      "None\n",
      "Date parsing error on: \n",
      "None\n",
      "Date parsing error on: \n",
      "None\n",
      "Date parsing error on: \n",
      "None\n",
      "Date parsing error on: \n",
      "None\n",
      "Date parsing error on: \n",
      "None\n",
      "Date parsing error on: \n",
      "None\n",
      "Date parsing error on: \n",
      "None\n",
      "Date parsing error on: \n",
      "None\n",
      "Date parsing error on: \n",
      "None\n",
      "Date parsing error on: \n",
      "None\n",
      "Date parsing error on: \n",
      "None\n",
      "Date parsing error on: \n",
      "None\n",
      "Date parsing error on: \n",
      "None\n",
      "Date parsing error on: \n",
      "None\n",
      "Date parsing error on: \n",
      "None\n",
      "Date parsing error on: \n",
      "None\n",
      "Date parsing error on: \n",
      "None\n",
      "Date parsing error on: \n",
      "None\n",
      "Date parsing error on: \n",
      "None\n",
      "Date parsing error on: \n",
      "None\n",
      "Date parsing error on: \n",
      "None\n",
      "Date parsing error on: \n",
      "None\n",
      "Date parsing error on: \n",
      "None\n",
      "Date parsing error on: \n",
      "None\n",
      "Date parsing error on: \n",
      "None\n",
      "Date parsing error on: \n",
      "None\n",
      "Date parsing error on: \n",
      "None\n",
      "Date parsing error on: \n",
      "None\n",
      "Date parsing error on: \n",
      "None\n",
      "Date parsing error on: \n",
      "None\n",
      "Date parsing error on: \n",
      "None\n",
      "Date parsing error on: \n",
      "None\n",
      "Date parsing error on: \n",
      "None\n",
      "Date parsing error on: \n",
      "None\n",
      "Date parsing error on: \n",
      "None\n",
      "Date parsing error on: \n",
      "None\n",
      "Date parsing error on: \n",
      "None\n",
      "Date parsing error on: \n",
      "None\n",
      "Date parsing error on: \n",
      "None\n",
      "Date parsing error on: \n",
      "None\n",
      "Date parsing error on: \n",
      "None\n",
      "Date parsing error on: \n",
      "None\n",
      "Date parsing error on: \n",
      "None\n",
      "Date parsing error on: \n",
      "None\n",
      "Date parsing error on: \n",
      "None\n",
      "Date parsing error on: \n",
      "None\n",
      "Date parsing error on: \n",
      "None\n",
      "Date parsing error on: \n",
      "None\n",
      "Date parsing error on: \n",
      "None\n",
      "Date parsing error on: \n",
      "None\n",
      "Date parsing error on: \n",
      "None\n",
      "Date parsing error on: \n",
      "None\n",
      "Date parsing error on: \n",
      "None\n",
      "Date parsing error on: \n",
      "None\n",
      "Date parsing error on: \n",
      "None\n",
      "Date parsing error on: \n",
      "None\n",
      "Date parsing error on: \n",
      "None\n",
      "Date parsing error on: \n",
      "None\n",
      "Date parsing error on: \n",
      "None\n",
      "Date parsing error on: \n",
      "None\n",
      "Date parsing error on: \n",
      "None\n",
      "Date parsing error on: \n",
      "None\n",
      "Date parsing error on: \n",
      "None\n",
      "Date parsing error on: \n",
      "None\n",
      "Date parsing error on: \n",
      "None\n",
      "Date parsing error on: \n",
      "None\n",
      "Date parsing error on: \n",
      "None\n",
      "Date parsing error on: \n",
      "None\n",
      "Date parsing error on: \n",
      "None\n",
      "Date parsing error on: \n",
      "None\n",
      "Date parsing error on: \n",
      "None\n",
      "Date parsing error on: \n",
      "None\n",
      "Date parsing error on: \n",
      "None\n",
      "iso-8859-8-i unknown encoding in message <000301c84bd7$0b969950$2604c15b@pcuser8d9c70eb>, using UTF-8 instead\n",
      "iso-8859-8-i unknown encoding in message <000301c84bd7$0b969950$2604c15b@pcuser8d9c70eb>, using UTF-8 instead\n",
      "Date parsing error on: \n",
      "None\n",
      "Date parsing error on: \n",
      "None\n",
      "Date parsing error on: \n",
      "None\n",
      "Date parsing error on: \n",
      "None\n",
      "Date parsing error on: \n",
      "None\n",
      "Date parsing error on: \n",
      "None\n",
      "Date parsing error on: \n",
      "None\n",
      "Date parsing error on: \n",
      "None\n",
      "Date parsing error on: \n",
      "None\n",
      "Date parsing error on: \n",
      "None\n",
      "Date parsing error on: \n",
      "None\n",
      "Date parsing error on: \n",
      "None\n",
      "Date parsing error on: \n",
      "None\n",
      "Date parsing error on: \n",
      "None\n",
      "Date parsing error on: \n",
      "None\n",
      "Date parsing error on: \n",
      "None\n",
      "Date parsing error on: \n",
      "None\n",
      "Date parsing error on: \n",
      "None\n",
      "Date parsing error on: \n",
      "None\n",
      "Date parsing error on: \n",
      "None\n",
      "Date parsing error on: \n",
      "None\n",
      "Date parsing error on: \n",
      "None\n",
      "Date parsing error on: \n",
      "None\n",
      "Date parsing error on: \n",
      "None\n",
      "Date parsing error on: \n",
      "None\n",
      "Date parsing error on: \n",
      "Mon, 31 Sep 2007 09:11:24 +0700\n",
      "Date parsing error on: \n",
      "None\n",
      "Date parsing error on: \n",
      "None\n",
      "Date parsing error on: \n",
      "None\n",
      "Date parsing error on: \n",
      "None\n"
     ]
    }
   ],
   "source": [
    "arx = Archive('geopriv',mbox=True)\n",
    "acts = arx.get_activity(resolved=False)"
   ]
  },
  {
   "cell_type": "markdown",
   "metadata": {},
   "source": [
    "A hack: `idxmax` gets the index first row with the maximum value of a column. If we first compare with `> 0`, then this gives us the index of the first positive value. That's the date of the first post."
   ]
  },
  {
   "cell_type": "code",
   "execution_count": 11,
   "metadata": {},
   "outputs": [],
   "source": [
    "first_messages = acts.applymap(lambda x: x > 0).idxmax()"
   ]
  },
  {
   "cell_type": "markdown",
   "metadata": {},
   "source": [
    "Because we're curious, let's get the number of messages sent by each person in the first 30 days of their participation on the mailing list."
   ]
  },
  {
   "cell_type": "code",
   "execution_count": 29,
   "metadata": {},
   "outputs": [],
   "source": [
    "def messages_in_first_30_days(name,date):\n",
    "    loc_1 = acts.index.get_loc(date)\n",
    "    return acts[name].iloc[loc_1:loc_1+30].sum()\n",
    "\n",
    "first_30 = pd.Series({name: messages_in_first_30_days(name,date) for name,date in first_messages.items()})"
   ]
  },
  {
   "cell_type": "markdown",
   "metadata": {},
   "source": [
    "Now here is the total of all messages sent by the person."
   ]
  },
  {
   "cell_type": "code",
   "execution_count": 30,
   "metadata": {},
   "outputs": [],
   "source": [
    "total = acts.sum(axis=0)"
   ]
  },
  {
   "cell_type": "code",
   "execution_count": 66,
   "metadata": {},
   "outputs": [],
   "source": [
    "data = pd.DataFrame()\n",
    "data['first_30'] = first_30\n",
    "data['total'] = total"
   ]
  },
  {
   "cell_type": "markdown",
   "metadata": {},
   "source": [
    "We want to know the extent to which the first 30 days are predictive of a participant's total messages. But we can't just take this regression! Currently, the first 30 days are tallied into the total, which biases the result. Let's remove the first 30 day count from the total."
   ]
  },
  {
   "cell_type": "code",
   "execution_count": 67,
   "metadata": {},
   "outputs": [],
   "source": [
    "data['future'] = data['total'] - data['first_30']"
   ]
  },
  {
   "cell_type": "markdown",
   "metadata": {},
   "source": [
    "This data is going to be very skewed towards low values, making it hard to understand the data visually..."
   ]
  },
  {
   "cell_type": "code",
   "execution_count": 68,
   "metadata": {},
   "outputs": [
    {
     "data": {
      "text/plain": [
       "<matplotlib.axes._subplots.AxesSubplot at 0x7efcd470de10>"
      ]
     },
     "execution_count": 68,
     "metadata": {},
     "output_type": "execute_result"
    },
    {
     "data": {
      "image/png": "[encoded data removed]",
      "text/plain": [
       "<Figure size 432x288 with 1 Axes>"
      ]
     },
     "metadata": {},
     "output_type": "display_data"
    }
   ],
   "source": [
    "data['future'].sort_values(ascending=False).plot()"
   ]
  },
  {
   "cell_type": "markdown",
   "metadata": {},
   "source": [
    "So let's take the log of the values (or really, log of 1 + the data, to take care of values of 0)."
   ]
  },
  {
   "cell_type": "code",
   "execution_count": 69,
   "metadata": {},
   "outputs": [],
   "source": [
    "log_data = data.applymap(np.log1p)"
   ]
  },
  {
   "cell_type": "code",
   "execution_count": 70,
   "metadata": {},
   "outputs": [
    {
     "data": {
      "image/png": "[encoded data removed]",
      "text/plain": [
       "<Figure size 432x432 with 3 Axes>"
      ]
     },
     "metadata": {},
     "output_type": "display_data"
    }
   ],
   "source": [
    "sns.jointplot(x=\"first_30\", y=\"future\", data=log_data, kind=\"reg\", color='g');"
   ]
  },
  {
   "cell_type": "markdown",
   "metadata": {},
   "source": [
    "Looks like indeed, posting frequency in the first 30 days is predictive of more posts throughout ones career. CHeck out that "
   ]
  }
 ],
 "metadata": {
  "kernelspec": {
   "display_name": "Python 2",
   "language": "python",
   "name": "python2"
  },
  "language_info": {
   "codemirror_mode": {
    "name": "ipython",
    "version": 2
   },
   "file_extension": ".py",
   "mimetype": "text/x-python",
   "name": "python",
   "nbconvert_exporter": "python",
   "pygments_lexer": "ipython2",
   "version": "2.7.14"
  }
 },
 "nbformat": 4,
 "nbformat_minor": 2
}
